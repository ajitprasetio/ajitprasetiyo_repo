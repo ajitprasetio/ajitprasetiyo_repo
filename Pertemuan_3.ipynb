{
 "cells": [
  {
   "cell_type": "code",
   "execution_count": 108,
   "metadata": {},
   "outputs": [],
   "source": [
    "import numpy as np\n",
    "import matplotlib.pyplot as plt\n",
    "import pandas as pd"
   ]
  },
  {
   "cell_type": "code",
   "execution_count": 109,
   "metadata": {},
   "outputs": [
    {
     "data": {
      "text/html": [
       "<div>\n",
       "<style scoped>\n",
       "    .dataframe tbody tr th:only-of-type {\n",
       "        vertical-align: middle;\n",
       "    }\n",
       "\n",
       "    .dataframe tbody tr th {\n",
       "        vertical-align: top;\n",
       "    }\n",
       "\n",
       "    .dataframe thead th {\n",
       "        text-align: right;\n",
       "    }\n",
       "</style>\n",
       "<table border=\"1\" class=\"dataframe\">\n",
       "  <thead>\n",
       "    <tr style=\"text-align: right;\">\n",
       "      <th></th>\n",
       "      <th>User ID</th>\n",
       "      <th>Jenis_Kelamin</th>\n",
       "      <th>Usia</th>\n",
       "      <th>Penghasilan</th>\n",
       "      <th>Jumlah_Anak</th>\n",
       "    </tr>\n",
       "  </thead>\n",
       "  <tbody>\n",
       "    <tr>\n",
       "      <th>208</th>\n",
       "      <td>15800890</td>\n",
       "      <td>Laki-Laki</td>\n",
       "      <td>26</td>\n",
       "      <td>3850000</td>\n",
       "      <td>1</td>\n",
       "    </tr>\n",
       "    <tr>\n",
       "      <th>266</th>\n",
       "      <td>15721592</td>\n",
       "      <td>Laki-Laki</td>\n",
       "      <td>42</td>\n",
       "      <td>4100000</td>\n",
       "      <td>0</td>\n",
       "    </tr>\n",
       "    <tr>\n",
       "      <th>70</th>\n",
       "      <td>15756932</td>\n",
       "      <td>Perempuan</td>\n",
       "      <td>26</td>\n",
       "      <td>4300000</td>\n",
       "      <td>0</td>\n",
       "    </tr>\n",
       "    <tr>\n",
       "      <th>353</th>\n",
       "      <td>15750335</td>\n",
       "      <td>Perempuan</td>\n",
       "      <td>39</td>\n",
       "      <td>4100000</td>\n",
       "      <td>0</td>\n",
       "    </tr>\n",
       "    <tr>\n",
       "      <th>1</th>\n",
       "      <td>15810944</td>\n",
       "      <td>Perempuan</td>\n",
       "      <td>21</td>\n",
       "      <td>2500000</td>\n",
       "      <td>0</td>\n",
       "    </tr>\n",
       "    <tr>\n",
       "      <th>231</th>\n",
       "      <td>15694453</td>\n",
       "      <td>Laki-Laki</td>\n",
       "      <td>38</td>\n",
       "      <td>1800000</td>\n",
       "      <td>0</td>\n",
       "    </tr>\n",
       "    <tr>\n",
       "      <th>347</th>\n",
       "      <td>15768151</td>\n",
       "      <td>Perempuan</td>\n",
       "      <td>22</td>\n",
       "      <td>5200000</td>\n",
       "      <td>1</td>\n",
       "    </tr>\n",
       "    <tr>\n",
       "      <th>32</th>\n",
       "      <td>15573452</td>\n",
       "      <td>Perempuan</td>\n",
       "      <td>41</td>\n",
       "      <td>3000000</td>\n",
       "      <td>0</td>\n",
       "    </tr>\n",
       "    <tr>\n",
       "      <th>288</th>\n",
       "      <td>15649668</td>\n",
       "      <td>Laki-Laki</td>\n",
       "      <td>41</td>\n",
       "      <td>2500000</td>\n",
       "      <td>0</td>\n",
       "    </tr>\n",
       "    <tr>\n",
       "      <th>144</th>\n",
       "      <td>15622833</td>\n",
       "      <td>Perempuan</td>\n",
       "      <td>38</td>\n",
       "      <td>3600000</td>\n",
       "      <td>0</td>\n",
       "    </tr>\n",
       "  </tbody>\n",
       "</table>\n",
       "</div>"
      ],
      "text/plain": [
       "      User ID Jenis_Kelamin  Usia  Penghasilan  Jumlah_Anak\n",
       "208  15800890     Laki-Laki    26      3850000            1\n",
       "266  15721592     Laki-Laki    42      4100000            0\n",
       "70   15756932     Perempuan    26      4300000            0\n",
       "353  15750335     Perempuan    39      4100000            0\n",
       "1    15810944     Perempuan    21      2500000            0\n",
       "231  15694453     Laki-Laki    38      1800000            0\n",
       "347  15768151     Perempuan    22      5200000            1\n",
       "32   15573452     Perempuan    41      3000000            0\n",
       "288  15649668     Laki-Laki    41      2500000            0\n",
       "144  15622833     Perempuan    38      3600000            0"
      ]
     },
     "execution_count": 109,
     "metadata": {},
     "output_type": "execute_result"
    }
   ],
   "source": [
    "dataset = pd.read_csv('Data_Penduduk.csv')\n",
    "dataset.sample(10)"
   ]
  },
  {
   "cell_type": "code",
   "execution_count": 110,
   "metadata": {},
   "outputs": [],
   "source": [
    "X = dataset.iloc[:,[2,3]].values\n",
    "y = dataset.iloc[:,[4]].values"
   ]
  },
  {
   "cell_type": "code",
   "execution_count": 111,
   "metadata": {},
   "outputs": [],
   "source": [
    "from sklearn.model_selection import train_test_split\n",
    "X_train, X_test, y_train, y_test = train_test_split(X, y, test_size=0.25, random_state=0)"
   ]
  },
  {
   "cell_type": "code",
   "execution_count": 112,
   "metadata": {},
   "outputs": [
    {
     "data": {
      "text/plain": [
       "(300, 2)"
      ]
     },
     "execution_count": 112,
     "metadata": {},
     "output_type": "execute_result"
    }
   ],
   "source": [
    "X_train.shape"
   ]
  },
  {
   "cell_type": "code",
   "execution_count": 113,
   "metadata": {},
   "outputs": [
    {
     "data": {
      "text/plain": [
       "(300, 1)"
      ]
     },
     "execution_count": 113,
     "metadata": {},
     "output_type": "execute_result"
    }
   ],
   "source": [
    "y_train.shape"
   ]
  },
  {
   "cell_type": "code",
   "execution_count": 114,
   "metadata": {},
   "outputs": [
    {
     "data": {
      "text/plain": [
       "(100, 2)"
      ]
     },
     "execution_count": 114,
     "metadata": {},
     "output_type": "execute_result"
    }
   ],
   "source": [
    "X_test.shape"
   ]
  },
  {
   "cell_type": "code",
   "execution_count": 115,
   "metadata": {},
   "outputs": [
    {
     "data": {
      "text/plain": [
       "(100, 1)"
      ]
     },
     "execution_count": 115,
     "metadata": {},
     "output_type": "execute_result"
    }
   ],
   "source": [
    "y_test.shape"
   ]
  },
  {
   "cell_type": "code",
   "execution_count": 116,
   "metadata": {},
   "outputs": [],
   "source": [
    "from sklearn.preprocessing import StandardScaler\n",
    "sc = StandardScaler()\n",
    "X_train = sc.fit_transform(X_train)\n",
    "X_test = sc.fit_transform(X_test)"
   ]
  },
  {
   "cell_type": "code",
   "execution_count": null,
   "metadata": {},
   "outputs": [],
   "source": [
    "from sklearn.linear_model import LogisticRegression\n",
    "classifier = LogisticRegression(random_state = 0)\n",
    "classifier.fit(X_train, y_train)"
   ]
  },
  {
   "cell_type": "code",
   "execution_count": 118,
   "metadata": {},
   "outputs": [
    {
     "data": {
      "text/plain": [
       "array([0, 0, 0, 0, 0, 0, 0, 0, 0, 0, 0, 0, 0, 0, 0, 0, 0, 0, 0, 0, 0, 0,\n",
       "       0, 0, 0, 0, 0, 0, 0, 0, 0, 0, 0, 0, 0, 0, 0, 0, 0, 0, 0, 0, 0, 0,\n",
       "       0, 0, 0, 0, 0, 0, 0, 0, 0, 0, 0, 0, 0, 0, 0, 0, 0, 0, 0, 0, 0, 0,\n",
       "       0, 0, 0, 0, 0, 0, 0, 0, 0, 0, 0, 0, 0, 0, 0, 0, 0, 0, 0, 0, 0, 0,\n",
       "       0, 0, 0, 0, 0, 0, 0, 0, 0, 0, 0, 0], dtype=int64)"
      ]
     },
     "execution_count": 118,
     "metadata": {},
     "output_type": "execute_result"
    }
   ],
   "source": [
    "y_pred = classifier.predict(X_test)\n",
    "y_pred"
   ]
  },
  {
   "cell_type": "code",
   "execution_count": 119,
   "metadata": {},
   "outputs": [
    {
     "data": {
      "text/plain": [
       "array([0, 0, 0, 0, 1, 0, 1, 0, 0, 0, 1, 0, 0, 1, 0, 0, 1, 0, 0, 0, 0, 0,\n",
       "       0, 0, 0, 0, 0, 0, 0, 0, 0, 0, 0, 0, 0, 0, 1, 0, 0, 0, 1, 0, 0, 0,\n",
       "       0, 1, 0, 1, 0, 0, 0, 0, 0, 0, 0, 1, 0, 0, 1, 1, 0, 0, 0, 0, 1, 0,\n",
       "       1, 0, 0, 1, 1, 0, 0, 0, 0, 0, 0, 0, 0, 1, 0, 1, 1, 0, 0, 0, 0, 0,\n",
       "       0, 0, 0, 0, 1, 0, 0, 1, 0, 0, 0, 0], dtype=int64)"
      ]
     },
     "execution_count": 119,
     "metadata": {},
     "output_type": "execute_result"
    }
   ],
   "source": [
    "y_actual = y_test.flatten()\n",
    "y_actual"
   ]
  },
  {
   "cell_type": "code",
   "execution_count": 120,
   "metadata": {},
   "outputs": [
    {
     "name": "stdout",
     "output_type": "stream",
     "text": [
      "Hasil aktual: 0 Hasil prediksi: 0\n",
      "Hasil aktual: 0 Hasil prediksi: 0\n",
      "Hasil aktual: 0 Hasil prediksi: 0\n",
      "Hasil aktual: 0 Hasil prediksi: 0\n",
      "Hasil aktual: 1 Hasil prediksi: 0\n",
      "Hasil aktual: 0 Hasil prediksi: 0\n",
      "Hasil aktual: 1 Hasil prediksi: 0\n",
      "Hasil aktual: 0 Hasil prediksi: 0\n",
      "Hasil aktual: 0 Hasil prediksi: 0\n",
      "Hasil aktual: 0 Hasil prediksi: 0\n",
      "Hasil aktual: 1 Hasil prediksi: 0\n",
      "Hasil aktual: 0 Hasil prediksi: 0\n",
      "Hasil aktual: 0 Hasil prediksi: 0\n",
      "Hasil aktual: 1 Hasil prediksi: 0\n",
      "Hasil aktual: 0 Hasil prediksi: 0\n",
      "Hasil aktual: 0 Hasil prediksi: 0\n",
      "Hasil aktual: 1 Hasil prediksi: 0\n",
      "Hasil aktual: 0 Hasil prediksi: 0\n",
      "Hasil aktual: 0 Hasil prediksi: 0\n",
      "Hasil aktual: 0 Hasil prediksi: 0\n",
      "Hasil aktual: 0 Hasil prediksi: 0\n",
      "Hasil aktual: 0 Hasil prediksi: 0\n",
      "Hasil aktual: 0 Hasil prediksi: 0\n",
      "Hasil aktual: 0 Hasil prediksi: 0\n",
      "Hasil aktual: 0 Hasil prediksi: 0\n",
      "Hasil aktual: 0 Hasil prediksi: 0\n",
      "Hasil aktual: 0 Hasil prediksi: 0\n",
      "Hasil aktual: 0 Hasil prediksi: 0\n",
      "Hasil aktual: 0 Hasil prediksi: 0\n",
      "Hasil aktual: 0 Hasil prediksi: 0\n",
      "Hasil aktual: 0 Hasil prediksi: 0\n",
      "Hasil aktual: 0 Hasil prediksi: 0\n",
      "Hasil aktual: 0 Hasil prediksi: 0\n",
      "Hasil aktual: 0 Hasil prediksi: 0\n",
      "Hasil aktual: 0 Hasil prediksi: 0\n",
      "Hasil aktual: 0 Hasil prediksi: 0\n",
      "Hasil aktual: 1 Hasil prediksi: 0\n",
      "Hasil aktual: 0 Hasil prediksi: 0\n",
      "Hasil aktual: 0 Hasil prediksi: 0\n",
      "Hasil aktual: 0 Hasil prediksi: 0\n",
      "Hasil aktual: 1 Hasil prediksi: 0\n",
      "Hasil aktual: 0 Hasil prediksi: 0\n",
      "Hasil aktual: 0 Hasil prediksi: 0\n",
      "Hasil aktual: 0 Hasil prediksi: 0\n",
      "Hasil aktual: 0 Hasil prediksi: 0\n",
      "Hasil aktual: 1 Hasil prediksi: 0\n",
      "Hasil aktual: 0 Hasil prediksi: 0\n",
      "Hasil aktual: 1 Hasil prediksi: 0\n",
      "Hasil aktual: 0 Hasil prediksi: 0\n",
      "Hasil aktual: 0 Hasil prediksi: 0\n",
      "Hasil aktual: 0 Hasil prediksi: 0\n",
      "Hasil aktual: 0 Hasil prediksi: 0\n",
      "Hasil aktual: 0 Hasil prediksi: 0\n",
      "Hasil aktual: 0 Hasil prediksi: 0\n",
      "Hasil aktual: 0 Hasil prediksi: 0\n",
      "Hasil aktual: 1 Hasil prediksi: 0\n",
      "Hasil aktual: 0 Hasil prediksi: 0\n",
      "Hasil aktual: 0 Hasil prediksi: 0\n",
      "Hasil aktual: 1 Hasil prediksi: 0\n",
      "Hasil aktual: 1 Hasil prediksi: 0\n",
      "Hasil aktual: 0 Hasil prediksi: 0\n",
      "Hasil aktual: 0 Hasil prediksi: 0\n",
      "Hasil aktual: 0 Hasil prediksi: 0\n",
      "Hasil aktual: 0 Hasil prediksi: 0\n",
      "Hasil aktual: 1 Hasil prediksi: 0\n",
      "Hasil aktual: 0 Hasil prediksi: 0\n",
      "Hasil aktual: 1 Hasil prediksi: 0\n",
      "Hasil aktual: 0 Hasil prediksi: 0\n",
      "Hasil aktual: 0 Hasil prediksi: 0\n",
      "Hasil aktual: 1 Hasil prediksi: 0\n",
      "Hasil aktual: 1 Hasil prediksi: 0\n",
      "Hasil aktual: 0 Hasil prediksi: 0\n",
      "Hasil aktual: 0 Hasil prediksi: 0\n",
      "Hasil aktual: 0 Hasil prediksi: 0\n",
      "Hasil aktual: 0 Hasil prediksi: 0\n",
      "Hasil aktual: 0 Hasil prediksi: 0\n",
      "Hasil aktual: 0 Hasil prediksi: 0\n",
      "Hasil aktual: 0 Hasil prediksi: 0\n",
      "Hasil aktual: 0 Hasil prediksi: 0\n",
      "Hasil aktual: 1 Hasil prediksi: 0\n",
      "Hasil aktual: 0 Hasil prediksi: 0\n",
      "Hasil aktual: 1 Hasil prediksi: 0\n",
      "Hasil aktual: 1 Hasil prediksi: 0\n",
      "Hasil aktual: 0 Hasil prediksi: 0\n",
      "Hasil aktual: 0 Hasil prediksi: 0\n",
      "Hasil aktual: 0 Hasil prediksi: 0\n",
      "Hasil aktual: 0 Hasil prediksi: 0\n",
      "Hasil aktual: 0 Hasil prediksi: 0\n",
      "Hasil aktual: 0 Hasil prediksi: 0\n",
      "Hasil aktual: 0 Hasil prediksi: 0\n",
      "Hasil aktual: 0 Hasil prediksi: 0\n",
      "Hasil aktual: 0 Hasil prediksi: 0\n",
      "Hasil aktual: 1 Hasil prediksi: 0\n",
      "Hasil aktual: 0 Hasil prediksi: 0\n",
      "Hasil aktual: 0 Hasil prediksi: 0\n",
      "Hasil aktual: 1 Hasil prediksi: 0\n",
      "Hasil aktual: 0 Hasil prediksi: 0\n",
      "Hasil aktual: 0 Hasil prediksi: 0\n",
      "Hasil aktual: 0 Hasil prediksi: 0\n",
      "Hasil aktual: 0 Hasil prediksi: 0\n"
     ]
    }
   ],
   "source": [
    "for i in range(len(y_actual)):\n",
    "    print(f'Hasil aktual: {y_actual[i]} Hasil prediksi: {y_pred[i]}')"
   ]
  },
  {
   "cell_type": "code",
   "execution_count": 121,
   "metadata": {},
   "outputs": [
    {
     "name": "stderr",
     "output_type": "stream",
     "text": [
      "No handles with labels found to put in legend.\n"
     ]
    },
    {
     "data": {
      "image/png": "[encoded data removed]",
      "text/plain": [
       "<Figure size 432x288 with 1 Axes>"
      ]
     },
     "metadata": {
      "needs_background": "light"
     },
     "output_type": "display_data"
    }
   ],
   "source": [
    "from matplotlib.colors import ListedColormap\n",
    "X_set, y_set = X_test, y_test\n",
    "X1, X2 = np.meshgrid(np.arange(start = X_set[:, 0].min() - 1, stop = X_set[:, 0].max() + 1, step = 0.01),\n",
    "                     np.arange(start = X_set[:, 1].min() - 1, stop = X_set[:, 1].max() + 1, step = 0.01))\n",
    "plt.contourf(X1, X2, classifier.predict(np.array([X1.ravel(), X2.ravel()]).T).reshape(X1.shape),\n",
    "             alpha = 0.55, cmap = ListedColormap(('blue', 'red')))\n",
    "plt.xlim(X1.min(), X1.max())\n",
    "plt.ylim(X2.min(), X2.max())\n",
    "# for i, j in enumerate(np.unique(y_set)):\n",
    "#     plt.scatter(X_set[y_set == j, 0], X_set[y_set == j, 1],\n",
    "#                 c = ListedColormap(('blue', 'red'))(i), label = j)\n",
    "plt.title('Logistic Regression (Test set)')\n",
    "plt.xlabel('Usia')\n",
    "plt.ylabel('Penghasilan')\n",
    "plt.legend()\n",
    "plt.show()"
   ]
  }
 ],
 "metadata": {
  "kernelspec": {
   "display_name": "Python 3",
   "language": "python",
   "name": "python3"
  },
  "language_info": {
   "codemirror_mode": {
    "name": "ipython",
    "version": 3
   },
   "file_extension": ".py",
   "mimetype": "text/x-python",
   "name": "python",
   "nbconvert_exporter": "python",
   "pygments_lexer": "ipython3",
   "version": "3.8.5"
  }
 },
 "nbformat": 4,
 "nbformat_minor": 4
}
